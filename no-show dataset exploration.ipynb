{
 "cells": [
  {
   "cell_type": "code",
   "execution_count": 2,
   "metadata": {},
   "outputs": [],
   "source": [
    "#import the packages\n",
    "import pandas as pd\n",
    "import numpy as np\n",
    "import matplotlib.pyplot as plt\n",
    "import seaborn as sns\n",
    "import datetime as dt\n",
    "\n",
    "from sklearn.datasets import make_classification\n",
    "from sklearn.ensemble import ExtraTreesClassifier\n",
    "##%config InlineBackend.figure_format = 'svg'\n",
    "%matplotlib inline"
   ]
  },
  {
   "cell_type": "code",
   "execution_count": 3,
   "metadata": {},
   "outputs": [
    {
     "name": "stdout",
     "output_type": "stream",
     "text": [
      "<class 'pandas.core.frame.DataFrame'>\n",
      "RangeIndex: 110527 entries, 0 to 110526\n",
      "Data columns (total 14 columns):\n",
      "PatientId         110527 non-null float64\n",
      "AppointmentID     110527 non-null int64\n",
      "Gender            110527 non-null object\n",
      "ScheduledDay      110527 non-null object\n",
      "AppointmentDay    110527 non-null object\n",
      "Age               110527 non-null int64\n",
      "Neighbourhood     110527 non-null object\n",
      "Scholarship       110527 non-null int64\n",
      "Hipertension      110527 non-null int64\n",
      "Diabetes          110527 non-null int64\n",
      "Alcoholism        110527 non-null int64\n",
      "Handcap           110527 non-null int64\n",
      "SMS_received      110527 non-null int64\n",
      "No-show           110527 non-null object\n",
      "dtypes: float64(1), int64(8), object(5)\n",
      "memory usage: 11.8+ MB\n"
     ]
    }
   ],
   "source": [
    "#read dataset\n",
    "df = pd.read_csv(\"https://d17h27t6h515a5.cloudfront.net/topher/2017/October/59dd2e9a_noshowappointments-kagglev2-may-2016/noshowappointments-kagglev2-may-2016.csv\")\n",
    "df.info()"
   ]
  },
  {
   "cell_type": "markdown",
   "metadata": {},
   "source": [
    "<i> As we can see, there isn't any missing data. So, we do not need to deal with it in our analysis."
   ]
  },
  {
   "cell_type": "code",
   "execution_count": 7,
   "metadata": {},
   "outputs": [
    {
     "data": {
      "text/html": [
       "<div>\n",
       "<style scoped>\n",
       "    .dataframe tbody tr th:only-of-type {\n",
       "        vertical-align: middle;\n",
       "    }\n",
       "\n",
       "    .dataframe tbody tr th {\n",
       "        vertical-align: top;\n",
       "    }\n",
       "\n",
       "    .dataframe thead th {\n",
       "        text-align: right;\n",
       "    }\n",
       "</style>\n",
       "<table border=\"1\" class=\"dataframe\">\n",
       "  <thead>\n",
       "    <tr style=\"text-align: right;\">\n",
       "      <th></th>\n",
       "      <th>PatientId</th>\n",
       "      <th>AppointmentID</th>\n",
       "      <th>Age</th>\n",
       "      <th>Scholarship</th>\n",
       "      <th>Hipertension</th>\n",
       "      <th>Diabetes</th>\n",
       "      <th>Alcoholism</th>\n",
       "      <th>Handcap</th>\n",
       "      <th>SMS_received</th>\n",
       "    </tr>\n",
       "  </thead>\n",
       "  <tbody>\n",
       "    <tr>\n",
       "      <th>count</th>\n",
       "      <td>1.105270e+05</td>\n",
       "      <td>1.105270e+05</td>\n",
       "      <td>110527.000000</td>\n",
       "      <td>110527.000000</td>\n",
       "      <td>110527.000000</td>\n",
       "      <td>110527.000000</td>\n",
       "      <td>110527.000000</td>\n",
       "      <td>110527.000000</td>\n",
       "      <td>110527.000000</td>\n",
       "    </tr>\n",
       "    <tr>\n",
       "      <th>mean</th>\n",
       "      <td>1.474963e+14</td>\n",
       "      <td>5.675305e+06</td>\n",
       "      <td>37.088874</td>\n",
       "      <td>0.098266</td>\n",
       "      <td>0.197246</td>\n",
       "      <td>0.071865</td>\n",
       "      <td>0.030400</td>\n",
       "      <td>0.022248</td>\n",
       "      <td>0.321026</td>\n",
       "    </tr>\n",
       "    <tr>\n",
       "      <th>std</th>\n",
       "      <td>2.560949e+14</td>\n",
       "      <td>7.129575e+04</td>\n",
       "      <td>23.110205</td>\n",
       "      <td>0.297675</td>\n",
       "      <td>0.397921</td>\n",
       "      <td>0.258265</td>\n",
       "      <td>0.171686</td>\n",
       "      <td>0.161543</td>\n",
       "      <td>0.466873</td>\n",
       "    </tr>\n",
       "    <tr>\n",
       "      <th>min</th>\n",
       "      <td>3.921784e+04</td>\n",
       "      <td>5.030230e+06</td>\n",
       "      <td>-1.000000</td>\n",
       "      <td>0.000000</td>\n",
       "      <td>0.000000</td>\n",
       "      <td>0.000000</td>\n",
       "      <td>0.000000</td>\n",
       "      <td>0.000000</td>\n",
       "      <td>0.000000</td>\n",
       "    </tr>\n",
       "    <tr>\n",
       "      <th>25%</th>\n",
       "      <td>4.172614e+12</td>\n",
       "      <td>5.640286e+06</td>\n",
       "      <td>18.000000</td>\n",
       "      <td>0.000000</td>\n",
       "      <td>0.000000</td>\n",
       "      <td>0.000000</td>\n",
       "      <td>0.000000</td>\n",
       "      <td>0.000000</td>\n",
       "      <td>0.000000</td>\n",
       "    </tr>\n",
       "    <tr>\n",
       "      <th>50%</th>\n",
       "      <td>3.173184e+13</td>\n",
       "      <td>5.680573e+06</td>\n",
       "      <td>37.000000</td>\n",
       "      <td>0.000000</td>\n",
       "      <td>0.000000</td>\n",
       "      <td>0.000000</td>\n",
       "      <td>0.000000</td>\n",
       "      <td>0.000000</td>\n",
       "      <td>0.000000</td>\n",
       "    </tr>\n",
       "    <tr>\n",
       "      <th>75%</th>\n",
       "      <td>9.439172e+13</td>\n",
       "      <td>5.725524e+06</td>\n",
       "      <td>55.000000</td>\n",
       "      <td>0.000000</td>\n",
       "      <td>0.000000</td>\n",
       "      <td>0.000000</td>\n",
       "      <td>0.000000</td>\n",
       "      <td>0.000000</td>\n",
       "      <td>1.000000</td>\n",
       "    </tr>\n",
       "    <tr>\n",
       "      <th>max</th>\n",
       "      <td>9.999816e+14</td>\n",
       "      <td>5.790484e+06</td>\n",
       "      <td>115.000000</td>\n",
       "      <td>1.000000</td>\n",
       "      <td>1.000000</td>\n",
       "      <td>1.000000</td>\n",
       "      <td>1.000000</td>\n",
       "      <td>4.000000</td>\n",
       "      <td>1.000000</td>\n",
       "    </tr>\n",
       "  </tbody>\n",
       "</table>\n",
       "</div>"
      ],
      "text/plain": [
       "          PatientId  AppointmentID            Age    Scholarship  \\\n",
       "count  1.105270e+05   1.105270e+05  110527.000000  110527.000000   \n",
       "mean   1.474963e+14   5.675305e+06      37.088874       0.098266   \n",
       "std    2.560949e+14   7.129575e+04      23.110205       0.297675   \n",
       "min    3.921784e+04   5.030230e+06      -1.000000       0.000000   \n",
       "25%    4.172614e+12   5.640286e+06      18.000000       0.000000   \n",
       "50%    3.173184e+13   5.680573e+06      37.000000       0.000000   \n",
       "75%    9.439172e+13   5.725524e+06      55.000000       0.000000   \n",
       "max    9.999816e+14   5.790484e+06     115.000000       1.000000   \n",
       "\n",
       "        Hipertension       Diabetes     Alcoholism        Handcap  \\\n",
       "count  110527.000000  110527.000000  110527.000000  110527.000000   \n",
       "mean        0.197246       0.071865       0.030400       0.022248   \n",
       "std         0.397921       0.258265       0.171686       0.161543   \n",
       "min         0.000000       0.000000       0.000000       0.000000   \n",
       "25%         0.000000       0.000000       0.000000       0.000000   \n",
       "50%         0.000000       0.000000       0.000000       0.000000   \n",
       "75%         0.000000       0.000000       0.000000       0.000000   \n",
       "max         1.000000       1.000000       1.000000       4.000000   \n",
       "\n",
       "        SMS_received  \n",
       "count  110527.000000  \n",
       "mean        0.321026  \n",
       "std         0.466873  \n",
       "min         0.000000  \n",
       "25%         0.000000  \n",
       "50%         0.000000  \n",
       "75%         1.000000  \n",
       "max         1.000000  "
      ]
     },
     "execution_count": 7,
     "metadata": {},
     "output_type": "execute_result"
    }
   ],
   "source": [
    "df.describe()"
   ]
  },
  {
   "cell_type": "markdown",
   "metadata": {},
   "source": [
    "<i> We can draw some simple conclusions looking at data in this general manner. \n",
    "1. The mean age of the sample is 37 years;\n",
    "2. Scholarship is low, below 10%. This makes sense since the Bolsa Familia program is for low income families;\n",
    "3. In general, SMS do not seens to be effective. We have a receive rate of only 32%.\n",
    "4. There is some patient with more than 100 years on the max quartile. We will take a deeper look on it "
   ]
  },
  {
   "cell_type": "markdown",
   "metadata": {},
   "source": [
    "### Data Wrangling\n",
    "To create more insights some transformations on the data are needed.\n",
    "Below we will convert schedule and appointment dates to datetime.\n",
    "It will help us with new columns such as simplified dates (`%d/%m/%Y`), the appointment and schedule hour and explore differences between these dates"
   ]
  },
  {
   "cell_type": "code",
   "execution_count": 4,
   "metadata": {},
   "outputs": [],
   "source": [
    "#Lowercase the columns name, so we can type it better\n",
    "df.columns = df.columns.str.lower()\n",
    "#df.rename(columns=lambda x: x.lower(), inplace=True)\n",
    "\n",
    "#Convert Schedule and Appointment date to datetime\n",
    "df['new_scheduledday'] = pd.to_datetime(df['scheduledday']).dt.date\n",
    "df['new_appointmentday'] = pd.to_datetime(df['appointmentday']).dt.date\n",
    "\n",
    "#Convert PatientID to string, so we avoid the float datatype and cientific notation\n",
    "df['patientid'] = df['patientid'].astype(str)\n",
    "\n",
    "#Create new columns:\n",
    "## Difference in days between schedule and appointment dates\n",
    "df['diff_schedule_appointment'] = df['new_appointmentday'] - df['new_scheduledday']\n",
    "\n",
    "##Create a period category with the difference in days between schedule and appointment. \n",
    "##This will help us to analyse different chunks of data\n",
    "df['schedule_period'] = pd.cut(df.diff_schedule_appointment, bins=4, labels=['< 30 days','< 60 days', '< 90 days', '> 90 days'])\n",
    "\n",
    "##Hour which the appointment was scheduled\n",
    "df['appointment_hour'] = pd.to_datetime(df['appointmentday']).dt.hour\n",
    "\n",
    "##Hour which the schedule was requested\n",
    "df['schedule_hour'] = pd.to_datetime(df['scheduledday']).dt.hour\n",
    "\n",
    "##Transform no-show data from categorical to numerical\n",
    "df['no-show'].replace({'Yes':1, 'No':0}, inplace=True)"
   ]
  },
  {
   "cell_type": "code",
   "execution_count": 5,
   "metadata": {},
   "outputs": [
    {
     "data": {
      "text/html": [
       "<div>\n",
       "<style scoped>\n",
       "    .dataframe tbody tr th:only-of-type {\n",
       "        vertical-align: middle;\n",
       "    }\n",
       "\n",
       "    .dataframe tbody tr th {\n",
       "        vertical-align: top;\n",
       "    }\n",
       "\n",
       "    .dataframe thead th {\n",
       "        text-align: right;\n",
       "    }\n",
       "</style>\n",
       "<table border=\"1\" class=\"dataframe\">\n",
       "  <thead>\n",
       "    <tr style=\"text-align: right;\">\n",
       "      <th></th>\n",
       "      <th>patientid</th>\n",
       "      <th>appointmentid</th>\n",
       "      <th>gender</th>\n",
       "      <th>scheduledday</th>\n",
       "      <th>appointmentday</th>\n",
       "      <th>age</th>\n",
       "      <th>neighbourhood</th>\n",
       "      <th>scholarship</th>\n",
       "      <th>hipertension</th>\n",
       "      <th>diabetes</th>\n",
       "      <th>alcoholism</th>\n",
       "      <th>handcap</th>\n",
       "      <th>sms_received</th>\n",
       "      <th>no-show</th>\n",
       "      <th>new_scheduledday</th>\n",
       "      <th>new_appointmentday</th>\n",
       "      <th>diff_schedule_appointment</th>\n",
       "      <th>schedule_period</th>\n",
       "      <th>appointment_hour</th>\n",
       "      <th>schedule_hour</th>\n",
       "    </tr>\n",
       "  </thead>\n",
       "  <tbody>\n",
       "    <tr>\n",
       "      <th>99832</th>\n",
       "      <td>465943158731293.0</td>\n",
       "      <td>5775010</td>\n",
       "      <td>F</td>\n",
       "      <td>2016-06-06T08:58:13Z</td>\n",
       "      <td>2016-06-06T00:00:00Z</td>\n",
       "      <td>-1</td>\n",
       "      <td>ROMÃO</td>\n",
       "      <td>0</td>\n",
       "      <td>0</td>\n",
       "      <td>0</td>\n",
       "      <td>0</td>\n",
       "      <td>0</td>\n",
       "      <td>0</td>\n",
       "      <td>0</td>\n",
       "      <td>2016-06-06</td>\n",
       "      <td>2016-06-06</td>\n",
       "      <td>0 days</td>\n",
       "      <td>&lt; 30 days</td>\n",
       "      <td>0</td>\n",
       "      <td>8</td>\n",
       "    </tr>\n",
       "  </tbody>\n",
       "</table>\n",
       "</div>"
      ],
      "text/plain": [
       "               patientid  appointmentid gender          scheduledday  \\\n",
       "99832  465943158731293.0        5775010      F  2016-06-06T08:58:13Z   \n",
       "\n",
       "             appointmentday  age neighbourhood  scholarship  hipertension  \\\n",
       "99832  2016-06-06T00:00:00Z   -1         ROMÃO            0             0   \n",
       "\n",
       "       diabetes  alcoholism  handcap  sms_received  no-show new_scheduledday  \\\n",
       "99832         0           0        0             0        0       2016-06-06   \n",
       "\n",
       "      new_appointmentday diff_schedule_appointment schedule_period  \\\n",
       "99832         2016-06-06                    0 days       < 30 days   \n",
       "\n",
       "       appointment_hour  schedule_hour  \n",
       "99832                 0              8  "
      ]
     },
     "execution_count": 5,
     "metadata": {},
     "output_type": "execute_result"
    }
   ],
   "source": [
    "#Check if column age have negative values\n",
    "df.query('age < 0')"
   ]
  },
  {
   "cell_type": "code",
   "execution_count": 6,
   "metadata": {},
   "outputs": [
    {
     "data": {
      "text/html": [
       "<div>\n",
       "<style scoped>\n",
       "    .dataframe tbody tr th:only-of-type {\n",
       "        vertical-align: middle;\n",
       "    }\n",
       "\n",
       "    .dataframe tbody tr th {\n",
       "        vertical-align: top;\n",
       "    }\n",
       "\n",
       "    .dataframe thead th {\n",
       "        text-align: right;\n",
       "    }\n",
       "</style>\n",
       "<table border=\"1\" class=\"dataframe\">\n",
       "  <thead>\n",
       "    <tr style=\"text-align: right;\">\n",
       "      <th></th>\n",
       "      <th>patientid</th>\n",
       "      <th>appointmentid</th>\n",
       "      <th>gender</th>\n",
       "      <th>scheduledday</th>\n",
       "      <th>appointmentday</th>\n",
       "      <th>age</th>\n",
       "      <th>neighbourhood</th>\n",
       "      <th>scholarship</th>\n",
       "      <th>hipertension</th>\n",
       "      <th>diabetes</th>\n",
       "      <th>alcoholism</th>\n",
       "      <th>handcap</th>\n",
       "      <th>sms_received</th>\n",
       "      <th>no-show</th>\n",
       "      <th>new_scheduledday</th>\n",
       "      <th>new_appointmentday</th>\n",
       "      <th>diff_schedule_appointment</th>\n",
       "      <th>schedule_period</th>\n",
       "      <th>appointment_hour</th>\n",
       "      <th>schedule_hour</th>\n",
       "    </tr>\n",
       "  </thead>\n",
       "  <tbody>\n",
       "  </tbody>\n",
       "</table>\n",
       "</div>"
      ],
      "text/plain": [
       "Empty DataFrame\n",
       "Columns: [patientid, appointmentid, gender, scheduledday, appointmentday, age, neighbourhood, scholarship, hipertension, diabetes, alcoholism, handcap, sms_received, no-show, new_scheduledday, new_appointmentday, diff_schedule_appointment, schedule_period, appointment_hour, schedule_hour]\n",
       "Index: []"
      ]
     },
     "execution_count": 6,
     "metadata": {},
     "output_type": "execute_result"
    }
   ],
   "source": [
    "#Let's reassign df with a version without negative ages \n",
    "df = df.query('age >= 0')\n",
    "#Check if there is any negative value in age\n",
    "df.query('age < 0')"
   ]
  },
  {
   "cell_type": "code",
   "execution_count": 7,
   "metadata": {},
   "outputs": [
    {
     "name": "stdout",
     "output_type": "stream",
     "text": [
      "<class 'pandas.core.frame.DataFrame'>\n",
      "Int64Index: 110526 entries, 0 to 110526\n",
      "Data columns (total 20 columns):\n",
      "patientid                    110526 non-null object\n",
      "appointmentid                110526 non-null int64\n",
      "gender                       110526 non-null object\n",
      "scheduledday                 110526 non-null object\n",
      "appointmentday               110526 non-null object\n",
      "age                          110526 non-null int64\n",
      "neighbourhood                110526 non-null object\n",
      "scholarship                  110526 non-null int64\n",
      "hipertension                 110526 non-null int64\n",
      "diabetes                     110526 non-null int64\n",
      "alcoholism                   110526 non-null int64\n",
      "handcap                      110526 non-null int64\n",
      "sms_received                 110526 non-null int64\n",
      "no-show                      110526 non-null int64\n",
      "new_scheduledday             110526 non-null object\n",
      "new_appointmentday           110526 non-null object\n",
      "diff_schedule_appointment    110526 non-null timedelta64[ns]\n",
      "schedule_period              110526 non-null category\n",
      "appointment_hour             110526 non-null int64\n",
      "schedule_hour                110526 non-null int64\n",
      "dtypes: category(1), int64(11), object(7), timedelta64[ns](1)\n",
      "memory usage: 17.0+ MB\n"
     ]
    }
   ],
   "source": [
    "#Check if everything went fine\n",
    "df.info()"
   ]
  },
  {
   "cell_type": "markdown",
   "metadata": {},
   "source": [
    "The new columns seems to be created correctly. Let's check out if the data make sense.\n",
    "To verify it, we will create new dataframe instances with summarized data"
   ]
  },
  {
   "cell_type": "code",
   "execution_count": 8,
   "metadata": {},
   "outputs": [
    {
     "name": "stdout",
     "output_type": "stream",
     "text": [
      "0\n"
     ]
    }
   ],
   "source": [
    "print(df.duplicated().sum())"
   ]
  },
  {
   "cell_type": "markdown",
   "metadata": {},
   "source": [
    "We also do not have duplicated rows, so we will start to create new variables to help in our analysis."
   ]
  },
  {
   "cell_type": "code",
   "execution_count": 9,
   "metadata": {},
   "outputs": [],
   "source": [
    "#Create the summarized datasets\n",
    "df_diff = df.groupby('diff_schedule_appointment')['patientid'].count().to_frame().reset_index()\n",
    "df_sch_period = df.groupby('schedule_period')['patientid'].count().to_frame().reset_index()\n",
    "df_ahour = df.groupby('appointment_hour')['patientid'].count().to_frame().reset_index()\n",
    "df_shour = df.groupby('schedule_hour')['patientid'].count().to_frame().reset_index()"
   ]
  },
  {
   "cell_type": "code",
   "execution_count": 10,
   "metadata": {},
   "outputs": [
    {
     "data": {
      "image/png": "[encoded data removed]",
      "text/plain": [
       "<Figure size 432x288 with 1 Axes>"
      ]
     },
     "metadata": {},
     "output_type": "display_data"
    },
    {
     "data": {
      "image/png": "[encoded data removed]",
      "text/plain": [
       "<Figure size 432x288 with 1 Axes>"
      ]
     },
     "metadata": {},
     "output_type": "display_data"
    },
    {
     "data": {
      "image/png": "[encoded data removed]",
      "text/plain": [
       "<Figure size 432x288 with 1 Axes>"
      ]
     },
     "metadata": {},
     "output_type": "display_data"
    },
    {
     "data": {
      "image/png": "[encoded data removed]",
      "text/plain": [
       "<Figure size 432x288 with 1 Axes>"
      ]
     },
     "metadata": {},
     "output_type": "display_data"
    }
   ],
   "source": [
    "#Check if the new dataframes above will be useful on the analysis\n",
    "df_index = np.arange(len(df_diff))\n",
    "df_period_index = np.arange(len(df_sch_period))\n",
    "shour_index = np.arange(len(df_shour))\n",
    "ahour_index = np.arange(len(df_ahour))\n",
    "\n",
    "#Defining df_diff plot\n",
    "plt.bar(df_index, df_diff['patientid'])\n",
    "plt.xlabel('Days from schedule')\n",
    "plt.ylabel('Number of patients')\n",
    "plt.xticks(shour_index, df_diff['diff_schedule_appointment'])\n",
    "plt.title('Patients x Days from Scheduled to Appointment')\n",
    "plt.show()\n",
    "\n",
    "#Defininf df_sch_period\n",
    "plt.bar(df_period_index, df_sch_period['patientid'])\n",
    "plt.xlabel('Schedules period')\n",
    "plt.ylabel('Number of patients')\n",
    "plt.xticks(df_period_index, df_sch_period['schedule_period'])\n",
    "plt.title('Patients x Schedule period')\n",
    "plt.show()\n",
    "\n",
    "#Defining the schedule hours plot\n",
    "plt.bar(shour_index, df_shour['patientid'])\n",
    "plt.xlabel('Schedule Hours')\n",
    "plt.ylabel('Number of schedules')\n",
    "plt.xticks(shour_index, df_shour['schedule_hour'])\n",
    "plt.title('Patients x Schuduled hour')\n",
    "plt.show()\n",
    "\n",
    "#Defining the appointment hours plot\n",
    "plt.bar(ahour_index, df_ahour['patientid'])\n",
    "plt.xlabel('Appointment Hours')\n",
    "plt.ylabel('Number of appointments')\n",
    "plt.xticks(shour_index, df_ahour['appointment_hour'])\n",
    "plt.title('Patients x Appointment hour')\n",
    "plt.show()"
   ]
  },
  {
   "cell_type": "markdown",
   "metadata": {},
   "source": [
    "Here we can see two important information:\n",
    "1. The date diff column we created has value but due to many values, it's difficult to understand data efficiently. The period column created, that comes in the second plot shows a much more, pleasant view\n",
    "2. There is a substantial number of rows where schedule data and appointment date are equal. This may be attributed to appointments performed without schedule in urgent cases. This is an assumption, we cannot affirm that based on the data we have.\n",
    "3. The appointment hour seems to have bad data. There is any other data than \"zero\" hour, which doesn't makes sense."
   ]
  },
  {
   "cell_type": "markdown",
   "metadata": {},
   "source": [
    "## Data analysis\n",
    "\n",
    "Here we will start to analyse our data. We will see some descriptive statistics and also some graphs."
   ]
  },
  {
   "cell_type": "markdown",
   "metadata": {},
   "source": [
    "### Patient demography"
   ]
  },
  {
   "cell_type": "code",
   "execution_count": 11,
   "metadata": {},
   "outputs": [
    {
     "name": "stdout",
     "output_type": "stream",
     "text": [
      "Here, we see that unique patients id corresponds to 56.37% of the total count.That is, on average, a patient schedule an appoint twice.\n"
     ]
    }
   ],
   "source": [
    "# What is the percentage of unique patientid's and total count?\n",
    "print(\"Here, we see that unique patients id corresponds to {}% of the total count.\" \n",
    "      \"That is, on average, a patient schedule an appoint twice.\".\n",
    "      format(round(df['patientid'].nunique() / df['patientid'].count() *100,2)))"
   ]
  },
  {
   "cell_type": "code",
   "execution_count": 12,
   "metadata": {},
   "outputs": [],
   "source": [
    "unique_males_p = round(df[df['gender']== 'M']['patientid'].nunique() / df[df['gender']== 'M']['patientid'].count() *100, 2)  "
   ]
  },
  {
   "cell_type": "code",
   "execution_count": 13,
   "metadata": {},
   "outputs": [],
   "source": [
    "unique_females_p = round(df[df['gender']== 'F']['patientid'].nunique() / df[df['gender']== 'F']['patientid'].count() * 100, 2)"
   ]
  },
  {
   "cell_type": "code",
   "execution_count": 14,
   "metadata": {},
   "outputs": [
    {
     "name": "stdout",
     "output_type": "stream",
     "text": [
      "Here we see that male and female patients do not varies too much.\n",
      "The first being with slightly higher number of unique patients.\n",
      "Males: 57.52%, Females: 55.74%\n"
     ]
    }
   ],
   "source": [
    "print(\"Here we see that male and female patients do not varies too much.\\n\"\n",
    "      \"The first being with slightly higher number of unique patients.\\n\"\n",
    "      \"Males: {}%, Females: {}%\".format(unique_males_p, unique_females_p))"
   ]
  },
  {
   "cell_type": "code",
   "execution_count": 15,
   "metadata": {},
   "outputs": [
    {
     "data": {
      "text/html": [
       "<div>\n",
       "<style scoped>\n",
       "    .dataframe tbody tr th:only-of-type {\n",
       "        vertical-align: middle;\n",
       "    }\n",
       "\n",
       "    .dataframe tbody tr th {\n",
       "        vertical-align: top;\n",
       "    }\n",
       "\n",
       "    .dataframe thead th {\n",
       "        text-align: right;\n",
       "    }\n",
       "</style>\n",
       "<table border=\"1\" class=\"dataframe\">\n",
       "  <thead>\n",
       "    <tr style=\"text-align: right;\">\n",
       "      <th></th>\n",
       "      <th>appointmentid</th>\n",
       "      <th>age</th>\n",
       "      <th>scholarship</th>\n",
       "      <th>hipertension</th>\n",
       "      <th>diabetes</th>\n",
       "      <th>alcoholism</th>\n",
       "      <th>handcap</th>\n",
       "      <th>sms_received</th>\n",
       "      <th>no-show</th>\n",
       "      <th>diff_schedule_appointment</th>\n",
       "      <th>appointment_hour</th>\n",
       "      <th>schedule_hour</th>\n",
       "    </tr>\n",
       "  </thead>\n",
       "  <tbody>\n",
       "    <tr>\n",
       "      <th>count</th>\n",
       "      <td>3.868700e+04</td>\n",
       "      <td>38687.000000</td>\n",
       "      <td>38687.000000</td>\n",
       "      <td>38687.000000</td>\n",
       "      <td>38687.000000</td>\n",
       "      <td>38687.000000</td>\n",
       "      <td>38687.000000</td>\n",
       "      <td>38687.000000</td>\n",
       "      <td>38687.000000</td>\n",
       "      <td>38687</td>\n",
       "      <td>38687.0</td>\n",
       "      <td>38687.000000</td>\n",
       "    </tr>\n",
       "    <tr>\n",
       "      <th>mean</th>\n",
       "      <td>5.677102e+06</td>\n",
       "      <td>33.736863</td>\n",
       "      <td>0.051904</td>\n",
       "      <td>0.167033</td>\n",
       "      <td>0.060408</td>\n",
       "      <td>0.055238</td>\n",
       "      <td>0.027270</td>\n",
       "      <td>0.291571</td>\n",
       "      <td>0.199679</td>\n",
       "      <td>9 days 14:14:12.193243</td>\n",
       "      <td>0.0</td>\n",
       "      <td>10.769096</td>\n",
       "    </tr>\n",
       "    <tr>\n",
       "      <th>std</th>\n",
       "      <td>6.990406e+04</td>\n",
       "      <td>24.435221</td>\n",
       "      <td>0.221836</td>\n",
       "      <td>0.373010</td>\n",
       "      <td>0.238244</td>\n",
       "      <td>0.228448</td>\n",
       "      <td>0.180917</td>\n",
       "      <td>0.454492</td>\n",
       "      <td>0.399765</td>\n",
       "      <td>14 days 19:33:18.889800</td>\n",
       "      <td>0.0</td>\n",
       "      <td>3.224494</td>\n",
       "    </tr>\n",
       "    <tr>\n",
       "      <th>min</th>\n",
       "      <td>5.122866e+06</td>\n",
       "      <td>0.000000</td>\n",
       "      <td>0.000000</td>\n",
       "      <td>0.000000</td>\n",
       "      <td>0.000000</td>\n",
       "      <td>0.000000</td>\n",
       "      <td>0.000000</td>\n",
       "      <td>0.000000</td>\n",
       "      <td>0.000000</td>\n",
       "      <td>-1 days +00:00:00</td>\n",
       "      <td>0.0</td>\n",
       "      <td>6.000000</td>\n",
       "    </tr>\n",
       "    <tr>\n",
       "      <th>25%</th>\n",
       "      <td>5.642308e+06</td>\n",
       "      <td>10.000000</td>\n",
       "      <td>0.000000</td>\n",
       "      <td>0.000000</td>\n",
       "      <td>0.000000</td>\n",
       "      <td>0.000000</td>\n",
       "      <td>0.000000</td>\n",
       "      <td>0.000000</td>\n",
       "      <td>0.000000</td>\n",
       "      <td>0 days 00:00:00</td>\n",
       "      <td>0.0</td>\n",
       "      <td>8.000000</td>\n",
       "    </tr>\n",
       "    <tr>\n",
       "      <th>50%</th>\n",
       "      <td>5.681916e+06</td>\n",
       "      <td>33.000000</td>\n",
       "      <td>0.000000</td>\n",
       "      <td>0.000000</td>\n",
       "      <td>0.000000</td>\n",
       "      <td>0.000000</td>\n",
       "      <td>0.000000</td>\n",
       "      <td>0.000000</td>\n",
       "      <td>0.000000</td>\n",
       "      <td>3 days 00:00:00</td>\n",
       "      <td>0.0</td>\n",
       "      <td>10.000000</td>\n",
       "    </tr>\n",
       "    <tr>\n",
       "      <th>75%</th>\n",
       "      <td>5.726456e+06</td>\n",
       "      <td>54.000000</td>\n",
       "      <td>0.000000</td>\n",
       "      <td>0.000000</td>\n",
       "      <td>0.000000</td>\n",
       "      <td>0.000000</td>\n",
       "      <td>0.000000</td>\n",
       "      <td>1.000000</td>\n",
       "      <td>0.000000</td>\n",
       "      <td>14 days 00:00:00</td>\n",
       "      <td>0.0</td>\n",
       "      <td>13.000000</td>\n",
       "    </tr>\n",
       "    <tr>\n",
       "      <th>max</th>\n",
       "      <td>5.790466e+06</td>\n",
       "      <td>100.000000</td>\n",
       "      <td>1.000000</td>\n",
       "      <td>1.000000</td>\n",
       "      <td>1.000000</td>\n",
       "      <td>1.000000</td>\n",
       "      <td>4.000000</td>\n",
       "      <td>1.000000</td>\n",
       "      <td>1.000000</td>\n",
       "      <td>179 days 00:00:00</td>\n",
       "      <td>0.0</td>\n",
       "      <td>21.000000</td>\n",
       "    </tr>\n",
       "  </tbody>\n",
       "</table>\n",
       "</div>"
      ],
      "text/plain": [
       "       appointmentid           age   scholarship  hipertension      diabetes  \\\n",
       "count   3.868700e+04  38687.000000  38687.000000  38687.000000  38687.000000   \n",
       "mean    5.677102e+06     33.736863      0.051904      0.167033      0.060408   \n",
       "std     6.990406e+04     24.435221      0.221836      0.373010      0.238244   \n",
       "min     5.122866e+06      0.000000      0.000000      0.000000      0.000000   \n",
       "25%     5.642308e+06     10.000000      0.000000      0.000000      0.000000   \n",
       "50%     5.681916e+06     33.000000      0.000000      0.000000      0.000000   \n",
       "75%     5.726456e+06     54.000000      0.000000      0.000000      0.000000   \n",
       "max     5.790466e+06    100.000000      1.000000      1.000000      1.000000   \n",
       "\n",
       "         alcoholism       handcap  sms_received       no-show  \\\n",
       "count  38687.000000  38687.000000  38687.000000  38687.000000   \n",
       "mean       0.055238      0.027270      0.291571      0.199679   \n",
       "std        0.228448      0.180917      0.454492      0.399765   \n",
       "min        0.000000      0.000000      0.000000      0.000000   \n",
       "25%        0.000000      0.000000      0.000000      0.000000   \n",
       "50%        0.000000      0.000000      0.000000      0.000000   \n",
       "75%        0.000000      0.000000      1.000000      0.000000   \n",
       "max        1.000000      4.000000      1.000000      1.000000   \n",
       "\n",
       "      diff_schedule_appointment  appointment_hour  schedule_hour  \n",
       "count                     38687           38687.0   38687.000000  \n",
       "mean     9 days 14:14:12.193243               0.0      10.769096  \n",
       "std     14 days 19:33:18.889800               0.0       3.224494  \n",
       "min           -1 days +00:00:00               0.0       6.000000  \n",
       "25%             0 days 00:00:00               0.0       8.000000  \n",
       "50%             3 days 00:00:00               0.0      10.000000  \n",
       "75%            14 days 00:00:00               0.0      13.000000  \n",
       "max           179 days 00:00:00               0.0      21.000000  "
      ]
     },
     "execution_count": 15,
     "metadata": {},
     "output_type": "execute_result"
    }
   ],
   "source": [
    "df[df['gender']=='M'].describe()"
   ]
  },
  {
   "cell_type": "code",
   "execution_count": 16,
   "metadata": {},
   "outputs": [
    {
     "data": {
      "text/html": [
       "<div>\n",
       "<style scoped>\n",
       "    .dataframe tbody tr th:only-of-type {\n",
       "        vertical-align: middle;\n",
       "    }\n",
       "\n",
       "    .dataframe tbody tr th {\n",
       "        vertical-align: top;\n",
       "    }\n",
       "\n",
       "    .dataframe thead th {\n",
       "        text-align: right;\n",
       "    }\n",
       "</style>\n",
       "<table border=\"1\" class=\"dataframe\">\n",
       "  <thead>\n",
       "    <tr style=\"text-align: right;\">\n",
       "      <th></th>\n",
       "      <th>appointmentid</th>\n",
       "      <th>age</th>\n",
       "      <th>scholarship</th>\n",
       "      <th>hipertension</th>\n",
       "      <th>diabetes</th>\n",
       "      <th>alcoholism</th>\n",
       "      <th>handcap</th>\n",
       "      <th>sms_received</th>\n",
       "      <th>no-show</th>\n",
       "      <th>diff_schedule_appointment</th>\n",
       "      <th>appointment_hour</th>\n",
       "      <th>schedule_hour</th>\n",
       "    </tr>\n",
       "  </thead>\n",
       "  <tbody>\n",
       "    <tr>\n",
       "      <th>count</th>\n",
       "      <td>7.183900e+04</td>\n",
       "      <td>71839.000000</td>\n",
       "      <td>71839.000000</td>\n",
       "      <td>71839.000000</td>\n",
       "      <td>71839.000000</td>\n",
       "      <td>71839.000000</td>\n",
       "      <td>71839.000000</td>\n",
       "      <td>71839.000000</td>\n",
       "      <td>71839.000000</td>\n",
       "      <td>71839</td>\n",
       "      <td>71839.0</td>\n",
       "      <td>71839.000000</td>\n",
       "    </tr>\n",
       "    <tr>\n",
       "      <th>mean</th>\n",
       "      <td>5.674336e+06</td>\n",
       "      <td>38.894542</td>\n",
       "      <td>0.123234</td>\n",
       "      <td>0.213519</td>\n",
       "      <td>0.078036</td>\n",
       "      <td>0.017024</td>\n",
       "      <td>0.019544</td>\n",
       "      <td>0.336892</td>\n",
       "      <td>0.203149</td>\n",
       "      <td>10 days 12:02:39.356338</td>\n",
       "      <td>0.0</td>\n",
       "      <td>10.777475</td>\n",
       "    </tr>\n",
       "    <tr>\n",
       "      <th>std</th>\n",
       "      <td>7.201549e+04</td>\n",
       "      <td>22.154889</td>\n",
       "      <td>0.328708</td>\n",
       "      <td>0.409794</td>\n",
       "      <td>0.268229</td>\n",
       "      <td>0.129362</td>\n",
       "      <td>0.150010</td>\n",
       "      <td>0.472651</td>\n",
       "      <td>0.402345</td>\n",
       "      <td>15 days 11:27:52.887224</td>\n",
       "      <td>0.0</td>\n",
       "      <td>3.211731</td>\n",
       "    </tr>\n",
       "    <tr>\n",
       "      <th>min</th>\n",
       "      <td>5.030230e+06</td>\n",
       "      <td>0.000000</td>\n",
       "      <td>0.000000</td>\n",
       "      <td>0.000000</td>\n",
       "      <td>0.000000</td>\n",
       "      <td>0.000000</td>\n",
       "      <td>0.000000</td>\n",
       "      <td>0.000000</td>\n",
       "      <td>0.000000</td>\n",
       "      <td>-6 days +00:00:00</td>\n",
       "      <td>0.0</td>\n",
       "      <td>6.000000</td>\n",
       "    </tr>\n",
       "    <tr>\n",
       "      <th>25%</th>\n",
       "      <td>5.639222e+06</td>\n",
       "      <td>21.000000</td>\n",
       "      <td>0.000000</td>\n",
       "      <td>0.000000</td>\n",
       "      <td>0.000000</td>\n",
       "      <td>0.000000</td>\n",
       "      <td>0.000000</td>\n",
       "      <td>0.000000</td>\n",
       "      <td>0.000000</td>\n",
       "      <td>0 days 00:00:00</td>\n",
       "      <td>0.0</td>\n",
       "      <td>8.000000</td>\n",
       "    </tr>\n",
       "    <tr>\n",
       "      <th>50%</th>\n",
       "      <td>5.679849e+06</td>\n",
       "      <td>39.000000</td>\n",
       "      <td>0.000000</td>\n",
       "      <td>0.000000</td>\n",
       "      <td>0.000000</td>\n",
       "      <td>0.000000</td>\n",
       "      <td>0.000000</td>\n",
       "      <td>0.000000</td>\n",
       "      <td>0.000000</td>\n",
       "      <td>4 days 00:00:00</td>\n",
       "      <td>0.0</td>\n",
       "      <td>10.000000</td>\n",
       "    </tr>\n",
       "    <tr>\n",
       "      <th>75%</th>\n",
       "      <td>5.724902e+06</td>\n",
       "      <td>56.000000</td>\n",
       "      <td>0.000000</td>\n",
       "      <td>0.000000</td>\n",
       "      <td>0.000000</td>\n",
       "      <td>0.000000</td>\n",
       "      <td>0.000000</td>\n",
       "      <td>1.000000</td>\n",
       "      <td>0.000000</td>\n",
       "      <td>15 days 00:00:00</td>\n",
       "      <td>0.0</td>\n",
       "      <td>13.000000</td>\n",
       "    </tr>\n",
       "    <tr>\n",
       "      <th>max</th>\n",
       "      <td>5.790484e+06</td>\n",
       "      <td>115.000000</td>\n",
       "      <td>1.000000</td>\n",
       "      <td>1.000000</td>\n",
       "      <td>1.000000</td>\n",
       "      <td>1.000000</td>\n",
       "      <td>4.000000</td>\n",
       "      <td>1.000000</td>\n",
       "      <td>1.000000</td>\n",
       "      <td>179 days 00:00:00</td>\n",
       "      <td>0.0</td>\n",
       "      <td>21.000000</td>\n",
       "    </tr>\n",
       "  </tbody>\n",
       "</table>\n",
       "</div>"
      ],
      "text/plain": [
       "       appointmentid           age   scholarship  hipertension      diabetes  \\\n",
       "count   7.183900e+04  71839.000000  71839.000000  71839.000000  71839.000000   \n",
       "mean    5.674336e+06     38.894542      0.123234      0.213519      0.078036   \n",
       "std     7.201549e+04     22.154889      0.328708      0.409794      0.268229   \n",
       "min     5.030230e+06      0.000000      0.000000      0.000000      0.000000   \n",
       "25%     5.639222e+06     21.000000      0.000000      0.000000      0.000000   \n",
       "50%     5.679849e+06     39.000000      0.000000      0.000000      0.000000   \n",
       "75%     5.724902e+06     56.000000      0.000000      0.000000      0.000000   \n",
       "max     5.790484e+06    115.000000      1.000000      1.000000      1.000000   \n",
       "\n",
       "         alcoholism       handcap  sms_received       no-show  \\\n",
       "count  71839.000000  71839.000000  71839.000000  71839.000000   \n",
       "mean       0.017024      0.019544      0.336892      0.203149   \n",
       "std        0.129362      0.150010      0.472651      0.402345   \n",
       "min        0.000000      0.000000      0.000000      0.000000   \n",
       "25%        0.000000      0.000000      0.000000      0.000000   \n",
       "50%        0.000000      0.000000      0.000000      0.000000   \n",
       "75%        0.000000      0.000000      1.000000      0.000000   \n",
       "max        1.000000      4.000000      1.000000      1.000000   \n",
       "\n",
       "      diff_schedule_appointment  appointment_hour  schedule_hour  \n",
       "count                     71839           71839.0   71839.000000  \n",
       "mean    10 days 12:02:39.356338               0.0      10.777475  \n",
       "std     15 days 11:27:52.887224               0.0       3.211731  \n",
       "min           -6 days +00:00:00               0.0       6.000000  \n",
       "25%             0 days 00:00:00               0.0       8.000000  \n",
       "50%             4 days 00:00:00               0.0      10.000000  \n",
       "75%            15 days 00:00:00               0.0      13.000000  \n",
       "max           179 days 00:00:00               0.0      21.000000  "
      ]
     },
     "execution_count": 16,
     "metadata": {},
     "output_type": "execute_result"
    }
   ],
   "source": [
    "df[df['gender']=='F'].describe()"
   ]
  },
  {
   "cell_type": "code",
   "execution_count": 17,
   "metadata": {},
   "outputs": [
    {
     "data": {
      "image/png": "[encoded data removed]",
      "text/plain": [
       "<Figure size 432x288 with 1 Axes>"
      ]
     },
     "metadata": {},
     "output_type": "display_data"
    }
   ],
   "source": [
    "df.groupby(['gender','scholarship'])['appointmentid'].count().plot(kind='bar', \n",
    "                                                                   title='Gender x Scholarship',\n",
    "                                                                   color='grey')\n",
    "plt.ylabel('Number of appointments');\n",
    "plt.xlabel('F=Female, M=Male, 1=With scholarship, 0=No scholarship');"
   ]
  },
  {
   "cell_type": "code",
   "execution_count": 18,
   "metadata": {},
   "outputs": [
    {
     "data": {
      "image/png": "[encoded data removed]",
      "text/plain": [
       "<Figure size 432x288 with 2 Axes>"
      ]
     },
     "metadata": {},
     "output_type": "display_data"
    }
   ],
   "source": [
    "sms_plot = df['sms_received'].hist(grid=False, by=df['gender'], bins=3)\n",
    "plt.suptitle('SMS received by Gender')\n",
    "plt.ylabel('SMS received by patients');"
   ]
  },
  {
   "cell_type": "code",
   "execution_count": 23,
   "metadata": {},
   "outputs": [
    {
     "data": {
      "text/plain": [
       "Timedelta('15 days 15:22:44.482241')"
      ]
     },
     "execution_count": 23,
     "metadata": {},
     "output_type": "execute_result"
    }
   ],
   "source": [
    "#Getting the median of schedule to appointment, desconsidering difference equal zero days\n",
    "df[df['diff_schedule_appointment'] != '0 days']['diff_schedule_appointment'].mean()"
   ]
  },
  {
   "cell_type": "markdown",
   "metadata": {},
   "source": [
    "### Hospital neighbourhood information"
   ]
  },
  {
   "cell_type": "markdown",
   "metadata": {},
   "source": [
    "Here we will check the top 10 hospital with more no-show"
   ]
  },
  {
   "cell_type": "code",
   "execution_count": 24,
   "metadata": {},
   "outputs": [
    {
     "data": {
      "image/png": "[encoded data removed]",
      "text/plain": [
       "<Figure size 432x288 with 1 Axes>"
      ]
     },
     "metadata": {},
     "output_type": "display_data"
    }
   ],
   "source": [
    "plt_ns_hosp = no_show_hosp = df[df['no-show'] == 1].groupby('neighbourhood')['appointmentid'].count()\n",
    "plt_ns_hosp = no_show_hosp.nlargest(15)\n",
    "plt_ns_hosp.sort_values(ascending=True).plot(kind='barh', fontsize=6, color='grey').set_title('No-show by Hospital')\n",
    "plt.ylabel('Hospital neighbourhood')\n",
    "plt.xlabel('Number of appointments');"
   ]
  },
  {
   "cell_type": "code",
   "execution_count": 19,
   "metadata": {},
   "outputs": [
    {
     "data": {
      "image/png": "[encoded data removed]",
      "text/plain": [
       "<Figure size 432x288 with 1 Axes>"
      ]
     },
     "metadata": {},
     "output_type": "display_data"
    }
   ],
   "source": [
    "show_up_hosp = df[df['no-show']==0].groupby('neighbourhood')['appointmentid'].count()\n",
    "show_up_hosp = show_up_hosp.nlargest(15)\n",
    "show_up_hosp.sort_values(ascending=True).plot(kind='barh', fontsize=6, color='grey').set_title('Show-up by Hospital')\n",
    "plt.ylabel('Hospital neighbourhood')\n",
    "plt.xlabel('Number of appointments');"
   ]
  },
  {
   "cell_type": "code",
   "execution_count": 21,
   "metadata": {},
   "outputs": [
    {
     "ename": "AttributeError",
     "evalue": "'DataFrame' object has no attribute 'to_frame'",
     "output_type": "error",
     "traceback": [
      "\u001b[0;31m---------------------------------------------------------------------------\u001b[0m",
      "\u001b[0;31mAttributeError\u001b[0m                            Traceback (most recent call last)",
      "\u001b[0;32m<ipython-input-21-cc0275673b61>\u001b[0m in \u001b[0;36m<module>\u001b[0;34m()\u001b[0m\n\u001b[1;32m      1\u001b[0m \u001b[0;31m#Transform both hospital with no-show/show-up series to dataframe\u001b[0m\u001b[0;34m\u001b[0m\u001b[0;34m\u001b[0m\u001b[0m\n\u001b[0;32m----> 2\u001b[0;31m \u001b[0mshow_up_hosp\u001b[0m \u001b[0;34m=\u001b[0m \u001b[0mshow_up_hosp\u001b[0m\u001b[0;34m.\u001b[0m\u001b[0mto_frame\u001b[0m\u001b[0;34m(\u001b[0m\u001b[0;34m)\u001b[0m\u001b[0;34m.\u001b[0m\u001b[0mreset_index\u001b[0m\u001b[0;34m(\u001b[0m\u001b[0;34m)\u001b[0m\u001b[0;34m\u001b[0m\u001b[0m\n\u001b[0m\u001b[1;32m      3\u001b[0m \u001b[0mno_show_hosp\u001b[0m \u001b[0;34m=\u001b[0m \u001b[0mno_show_hosp\u001b[0m\u001b[0;34m.\u001b[0m\u001b[0mto_frame\u001b[0m\u001b[0;34m(\u001b[0m\u001b[0;34m)\u001b[0m\u001b[0;34m.\u001b[0m\u001b[0mreset_index\u001b[0m\u001b[0;34m(\u001b[0m\u001b[0;34m)\u001b[0m\u001b[0;34m\u001b[0m\u001b[0m\n",
      "\u001b[0;32m~/anaconda3/lib/python3.6/site-packages/pandas/core/generic.py\u001b[0m in \u001b[0;36m__getattr__\u001b[0;34m(self, name)\u001b[0m\n\u001b[1;32m   4370\u001b[0m             \u001b[0;32mif\u001b[0m \u001b[0mself\u001b[0m\u001b[0;34m.\u001b[0m\u001b[0m_info_axis\u001b[0m\u001b[0;34m.\u001b[0m\u001b[0m_can_hold_identifiers_and_holds_name\u001b[0m\u001b[0;34m(\u001b[0m\u001b[0mname\u001b[0m\u001b[0;34m)\u001b[0m\u001b[0;34m:\u001b[0m\u001b[0;34m\u001b[0m\u001b[0m\n\u001b[1;32m   4371\u001b[0m                 \u001b[0;32mreturn\u001b[0m \u001b[0mself\u001b[0m\u001b[0;34m[\u001b[0m\u001b[0mname\u001b[0m\u001b[0;34m]\u001b[0m\u001b[0;34m\u001b[0m\u001b[0m\n\u001b[0;32m-> 4372\u001b[0;31m             \u001b[0;32mreturn\u001b[0m \u001b[0mobject\u001b[0m\u001b[0;34m.\u001b[0m\u001b[0m__getattribute__\u001b[0m\u001b[0;34m(\u001b[0m\u001b[0mself\u001b[0m\u001b[0;34m,\u001b[0m \u001b[0mname\u001b[0m\u001b[0;34m)\u001b[0m\u001b[0;34m\u001b[0m\u001b[0m\n\u001b[0m\u001b[1;32m   4373\u001b[0m \u001b[0;34m\u001b[0m\u001b[0m\n\u001b[1;32m   4374\u001b[0m     \u001b[0;32mdef\u001b[0m \u001b[0m__setattr__\u001b[0m\u001b[0;34m(\u001b[0m\u001b[0mself\u001b[0m\u001b[0;34m,\u001b[0m \u001b[0mname\u001b[0m\u001b[0;34m,\u001b[0m \u001b[0mvalue\u001b[0m\u001b[0;34m)\u001b[0m\u001b[0;34m:\u001b[0m\u001b[0;34m\u001b[0m\u001b[0m\n",
      "\u001b[0;31mAttributeError\u001b[0m: 'DataFrame' object has no attribute 'to_frame'"
     ]
    }
   ],
   "source": [
    "#Transform both hospital with no-show/show-up series to dataframe \n",
    "show_up_hosp = show_up_hosp.to_frame().reset_index()\n",
    "no_show_hosp = no_show_hosp.to_frame().reset_index()"
   ]
  },
  {
   "cell_type": "code",
   "execution_count": 27,
   "metadata": {},
   "outputs": [],
   "source": [
    "#Merge the datasets to understand no show rate\n",
    "merged_hosp = pd.merge(show_up_hosp, no_show_hosp, how='inner', on='neighbourhood')\n",
    "merged_hosp.rename(columns={'appointmentid_x':'show_up_qtd',\n",
    "                           'appointmentid_y':'no_show_qtd'}, inplace=True)\n",
    "\n",
    "#create total and % of no show for each hospital\n",
    "merged_hosp['total'] = merged_hosp['show_up_qtd'] + merged_hosp['no_show_qtd']\n",
    "merged_hosp['no_show_rate'] = round(merged_hosp['no_show_qtd'] / merged_hosp['total']*100, 2)"
   ]
  },
  {
   "cell_type": "code",
   "execution_count": 28,
   "metadata": {},
   "outputs": [
    {
     "data": {
      "image/png": "[encoded data removed]",
      "text/plain": [
       "<Figure size 432x288 with 1 Axes>"
      ]
     },
     "metadata": {},
     "output_type": "display_data"
    }
   ],
   "source": [
    "#Create a horizontal bar ordered by hospital with more no-show\n",
    "m_hosp = merged_hosp.groupby('neighbourhood')['no_show_rate'].mean().sort_values(ascending=True)\n",
    "m_hosp.plot(kind='barh',fontsize=6, color='grey').set_title('% No-show rate by hospital')\n",
    "plt.ylabel('Hospital neighbourhood')\n",
    "plt.xlabel('percentage of no-show');"
   ]
  },
  {
   "cell_type": "code",
   "execution_count": 29,
   "metadata": {},
   "outputs": [
    {
     "name": "stdout",
     "output_type": "stream",
     "text": [
      "The median of no-showsis: 19.83%\n"
     ]
    }
   ],
   "source": [
    "print('The median of no-showsis: {}%'.format(merged_hosp['no_show_rate'].median()))"
   ]
  },
  {
   "cell_type": "code",
   "execution_count": 30,
   "metadata": {},
   "outputs": [],
   "source": [
    "#Create a dataset with schedules per hospital\n",
    "hosp_cases = df[['neighbourhood','hipertension','diabetes', 'alcoholism', 'handcap', 'no-show']].groupby('neighbourhood').sum()\n",
    "hosp_cases['total_occurences'] = hosp_cases['hipertension'] + hosp_cases['diabetes'] + hosp_cases['alcoholism'] + hosp_cases['handcap']"
   ]
  },
  {
   "cell_type": "code",
   "execution_count": 31,
   "metadata": {},
   "outputs": [
    {
     "data": {
      "text/html": [
       "<div>\n",
       "<style scoped>\n",
       "    .dataframe tbody tr th:only-of-type {\n",
       "        vertical-align: middle;\n",
       "    }\n",
       "\n",
       "    .dataframe tbody tr th {\n",
       "        vertical-align: top;\n",
       "    }\n",
       "\n",
       "    .dataframe thead th {\n",
       "        text-align: right;\n",
       "    }\n",
       "</style>\n",
       "<table border=\"1\" class=\"dataframe\">\n",
       "  <thead>\n",
       "    <tr style=\"text-align: right;\">\n",
       "      <th></th>\n",
       "      <th>hipertension</th>\n",
       "      <th>diabetes</th>\n",
       "      <th>alcoholism</th>\n",
       "      <th>handcap</th>\n",
       "      <th>no-show</th>\n",
       "      <th>total_occurences</th>\n",
       "    </tr>\n",
       "    <tr>\n",
       "      <th>neighbourhood</th>\n",
       "      <th></th>\n",
       "      <th></th>\n",
       "      <th></th>\n",
       "      <th></th>\n",
       "      <th></th>\n",
       "      <th></th>\n",
       "    </tr>\n",
       "  </thead>\n",
       "  <tbody>\n",
       "    <tr>\n",
       "      <th>SANTA MARTHA</th>\n",
       "      <td>720</td>\n",
       "      <td>278</td>\n",
       "      <td>344</td>\n",
       "      <td>121</td>\n",
       "      <td>496</td>\n",
       "      <td>1463</td>\n",
       "    </tr>\n",
       "  </tbody>\n",
       "</table>\n",
       "</div>"
      ],
      "text/plain": [
       "               hipertension  diabetes  alcoholism  handcap  no-show  \\\n",
       "neighbourhood                                                         \n",
       "SANTA MARTHA            720       278         344      121      496   \n",
       "\n",
       "               total_occurences  \n",
       "neighbourhood                    \n",
       "SANTA MARTHA               1463  "
      ]
     },
     "execution_count": 31,
     "metadata": {},
     "output_type": "execute_result"
    }
   ],
   "source": [
    "#Find the hospital with most occurences in general\n",
    "hosp_cases[hosp_cases['total_occurences'] == hosp_cases['total_occurences'].max()]"
   ]
  },
  {
   "cell_type": "code",
   "execution_count": 32,
   "metadata": {},
   "outputs": [
    {
     "data": {
      "text/html": [
       "<div>\n",
       "<style scoped>\n",
       "    .dataframe tbody tr th:only-of-type {\n",
       "        vertical-align: middle;\n",
       "    }\n",
       "\n",
       "    .dataframe tbody tr th {\n",
       "        vertical-align: top;\n",
       "    }\n",
       "\n",
       "    .dataframe thead th {\n",
       "        text-align: right;\n",
       "    }\n",
       "</style>\n",
       "<table border=\"1\" class=\"dataframe\">\n",
       "  <thead>\n",
       "    <tr style=\"text-align: right;\">\n",
       "      <th></th>\n",
       "      <th>hipertension</th>\n",
       "      <th>diabetes</th>\n",
       "      <th>alcoholism</th>\n",
       "      <th>handcap</th>\n",
       "      <th>no-show</th>\n",
       "      <th>total_occurences</th>\n",
       "    </tr>\n",
       "    <tr>\n",
       "      <th>neighbourhood</th>\n",
       "      <th></th>\n",
       "      <th></th>\n",
       "      <th></th>\n",
       "      <th></th>\n",
       "      <th></th>\n",
       "      <th></th>\n",
       "    </tr>\n",
       "  </thead>\n",
       "  <tbody>\n",
       "    <tr>\n",
       "      <th>JARDIM DA PENHA</th>\n",
       "      <td>1002</td>\n",
       "      <td>327</td>\n",
       "      <td>25</td>\n",
       "      <td>83</td>\n",
       "      <td>631</td>\n",
       "      <td>1437</td>\n",
       "    </tr>\n",
       "  </tbody>\n",
       "</table>\n",
       "</div>"
      ],
      "text/plain": [
       "                 hipertension  diabetes  alcoholism  handcap  no-show  \\\n",
       "neighbourhood                                                           \n",
       "JARDIM DA PENHA          1002       327          25       83      631   \n",
       "\n",
       "                 total_occurences  \n",
       "neighbourhood                      \n",
       "JARDIM DA PENHA              1437  "
      ]
     },
     "execution_count": 32,
     "metadata": {},
     "output_type": "execute_result"
    }
   ],
   "source": [
    "#Get the hospital with more hipertension patients\n",
    "hosp_cases[hosp_cases['hipertension'] == hosp_cases['hipertension'].max()]"
   ]
  },
  {
   "cell_type": "code",
   "execution_count": 33,
   "metadata": {},
   "outputs": [
    {
     "data": {
      "text/html": [
       "<div>\n",
       "<style scoped>\n",
       "    .dataframe tbody tr th:only-of-type {\n",
       "        vertical-align: middle;\n",
       "    }\n",
       "\n",
       "    .dataframe tbody tr th {\n",
       "        vertical-align: top;\n",
       "    }\n",
       "\n",
       "    .dataframe thead th {\n",
       "        text-align: right;\n",
       "    }\n",
       "</style>\n",
       "<table border=\"1\" class=\"dataframe\">\n",
       "  <thead>\n",
       "    <tr style=\"text-align: right;\">\n",
       "      <th></th>\n",
       "      <th>hipertension</th>\n",
       "      <th>diabetes</th>\n",
       "      <th>alcoholism</th>\n",
       "      <th>handcap</th>\n",
       "      <th>no-show</th>\n",
       "      <th>total_occurences</th>\n",
       "    </tr>\n",
       "    <tr>\n",
       "      <th>neighbourhood</th>\n",
       "      <th></th>\n",
       "      <th></th>\n",
       "      <th></th>\n",
       "      <th></th>\n",
       "      <th></th>\n",
       "      <th></th>\n",
       "    </tr>\n",
       "  </thead>\n",
       "  <tbody>\n",
       "    <tr>\n",
       "      <th>JARDIM DA PENHA</th>\n",
       "      <td>1002</td>\n",
       "      <td>327</td>\n",
       "      <td>25</td>\n",
       "      <td>83</td>\n",
       "      <td>631</td>\n",
       "      <td>1437</td>\n",
       "    </tr>\n",
       "  </tbody>\n",
       "</table>\n",
       "</div>"
      ],
      "text/plain": [
       "                 hipertension  diabetes  alcoholism  handcap  no-show  \\\n",
       "neighbourhood                                                           \n",
       "JARDIM DA PENHA          1002       327          25       83      631   \n",
       "\n",
       "                 total_occurences  \n",
       "neighbourhood                      \n",
       "JARDIM DA PENHA              1437  "
      ]
     },
     "execution_count": 33,
     "metadata": {},
     "output_type": "execute_result"
    }
   ],
   "source": [
    "#Get the hospital with more diabetes patients\n",
    "hosp_cases[hosp_cases['diabetes'] == hosp_cases['diabetes'].max()]"
   ]
  },
  {
   "cell_type": "code",
   "execution_count": 34,
   "metadata": {},
   "outputs": [
    {
     "data": {
      "text/html": [
       "<div>\n",
       "<style scoped>\n",
       "    .dataframe tbody tr th:only-of-type {\n",
       "        vertical-align: middle;\n",
       "    }\n",
       "\n",
       "    .dataframe tbody tr th {\n",
       "        vertical-align: top;\n",
       "    }\n",
       "\n",
       "    .dataframe thead th {\n",
       "        text-align: right;\n",
       "    }\n",
       "</style>\n",
       "<table border=\"1\" class=\"dataframe\">\n",
       "  <thead>\n",
       "    <tr style=\"text-align: right;\">\n",
       "      <th></th>\n",
       "      <th>hipertension</th>\n",
       "      <th>diabetes</th>\n",
       "      <th>alcoholism</th>\n",
       "      <th>handcap</th>\n",
       "      <th>no-show</th>\n",
       "      <th>total_occurences</th>\n",
       "    </tr>\n",
       "    <tr>\n",
       "      <th>neighbourhood</th>\n",
       "      <th></th>\n",
       "      <th></th>\n",
       "      <th></th>\n",
       "      <th></th>\n",
       "      <th></th>\n",
       "      <th></th>\n",
       "    </tr>\n",
       "  </thead>\n",
       "  <tbody>\n",
       "    <tr>\n",
       "      <th>SANTA MARTHA</th>\n",
       "      <td>720</td>\n",
       "      <td>278</td>\n",
       "      <td>344</td>\n",
       "      <td>121</td>\n",
       "      <td>496</td>\n",
       "      <td>1463</td>\n",
       "    </tr>\n",
       "  </tbody>\n",
       "</table>\n",
       "</div>"
      ],
      "text/plain": [
       "               hipertension  diabetes  alcoholism  handcap  no-show  \\\n",
       "neighbourhood                                                         \n",
       "SANTA MARTHA            720       278         344      121      496   \n",
       "\n",
       "               total_occurences  \n",
       "neighbourhood                    \n",
       "SANTA MARTHA               1463  "
      ]
     },
     "execution_count": 34,
     "metadata": {},
     "output_type": "execute_result"
    }
   ],
   "source": [
    "#Get the hospital with more alcoholism patients\n",
    "hosp_cases[hosp_cases['alcoholism'] == hosp_cases['alcoholism'].max()]"
   ]
  },
  {
   "cell_type": "code",
   "execution_count": 35,
   "metadata": {},
   "outputs": [
    {
     "data": {
      "text/html": [
       "<div>\n",
       "<style scoped>\n",
       "    .dataframe tbody tr th:only-of-type {\n",
       "        vertical-align: middle;\n",
       "    }\n",
       "\n",
       "    .dataframe tbody tr th {\n",
       "        vertical-align: top;\n",
       "    }\n",
       "\n",
       "    .dataframe thead th {\n",
       "        text-align: right;\n",
       "    }\n",
       "</style>\n",
       "<table border=\"1\" class=\"dataframe\">\n",
       "  <thead>\n",
       "    <tr style=\"text-align: right;\">\n",
       "      <th></th>\n",
       "      <th>hipertension</th>\n",
       "      <th>diabetes</th>\n",
       "      <th>alcoholism</th>\n",
       "      <th>handcap</th>\n",
       "      <th>no-show</th>\n",
       "      <th>total_occurences</th>\n",
       "    </tr>\n",
       "    <tr>\n",
       "      <th>neighbourhood</th>\n",
       "      <th></th>\n",
       "      <th></th>\n",
       "      <th></th>\n",
       "      <th></th>\n",
       "      <th></th>\n",
       "      <th></th>\n",
       "    </tr>\n",
       "  </thead>\n",
       "  <tbody>\n",
       "    <tr>\n",
       "      <th>SANTA MARTHA</th>\n",
       "      <td>720</td>\n",
       "      <td>278</td>\n",
       "      <td>344</td>\n",
       "      <td>121</td>\n",
       "      <td>496</td>\n",
       "      <td>1463</td>\n",
       "    </tr>\n",
       "  </tbody>\n",
       "</table>\n",
       "</div>"
      ],
      "text/plain": [
       "               hipertension  diabetes  alcoholism  handcap  no-show  \\\n",
       "neighbourhood                                                         \n",
       "SANTA MARTHA            720       278         344      121      496   \n",
       "\n",
       "               total_occurences  \n",
       "neighbourhood                    \n",
       "SANTA MARTHA               1463  "
      ]
     },
     "execution_count": 35,
     "metadata": {},
     "output_type": "execute_result"
    }
   ],
   "source": [
    "#Get the hospital with more handcap patients\n",
    "hosp_cases[hosp_cases['handcap'] == hosp_cases['handcap'].max()]"
   ]
  },
  {
   "cell_type": "code",
   "execution_count": 36,
   "metadata": {},
   "outputs": [
    {
     "data": {
      "text/html": [
       "<div>\n",
       "<style scoped>\n",
       "    .dataframe tbody tr th:only-of-type {\n",
       "        vertical-align: middle;\n",
       "    }\n",
       "\n",
       "    .dataframe tbody tr th {\n",
       "        vertical-align: top;\n",
       "    }\n",
       "\n",
       "    .dataframe thead th {\n",
       "        text-align: right;\n",
       "    }\n",
       "</style>\n",
       "<table border=\"1\" class=\"dataframe\">\n",
       "  <thead>\n",
       "    <tr style=\"text-align: right;\">\n",
       "      <th></th>\n",
       "      <th>0</th>\n",
       "    </tr>\n",
       "  </thead>\n",
       "  <tbody>\n",
       "    <tr>\n",
       "      <th>hipertension</th>\n",
       "      <td>3772</td>\n",
       "    </tr>\n",
       "    <tr>\n",
       "      <th>diabetes</th>\n",
       "      <td>1430</td>\n",
       "    </tr>\n",
       "    <tr>\n",
       "      <th>alcoholism</th>\n",
       "      <td>677</td>\n",
       "    </tr>\n",
       "    <tr>\n",
       "      <th>handcap</th>\n",
       "      <td>453</td>\n",
       "    </tr>\n",
       "    <tr>\n",
       "      <th>no-show</th>\n",
       "      <td>22319</td>\n",
       "    </tr>\n",
       "  </tbody>\n",
       "</table>\n",
       "</div>"
      ],
      "text/plain": [
       "                  0\n",
       "hipertension   3772\n",
       "diabetes       1430\n",
       "alcoholism      677\n",
       "handcap         453\n",
       "no-show       22319"
      ]
     },
     "execution_count": 36,
     "metadata": {},
     "output_type": "execute_result"
    }
   ],
   "source": [
    "#Calculates the medical issues with more no-show occurences\n",
    "df_no_show = df[df['no-show']==1]\n",
    "df_no_show = df_no_show[['hipertension','diabetes', 'alcoholism', 'handcap', 'no-show']].sum().to_frame()\n",
    "df_no_show.head()"
   ]
  },
  {
   "cell_type": "markdown",
   "metadata": {},
   "source": [
    "## Creating a timeseries graph on schedule and appointment"
   ]
  },
  {
   "cell_type": "markdown",
   "metadata": {},
   "source": [
    "Does the scheduling and appointment increase in specific periods of time? "
   ]
  },
  {
   "cell_type": "code",
   "execution_count": 37,
   "metadata": {},
   "outputs": [],
   "source": [
    "df_schedule = df.groupby('new_scheduledday')['appointmentid'].count()\n",
    "df_appointment = df.groupby('new_appointmentday')['appointmentid'].count()"
   ]
  },
  {
   "cell_type": "code",
   "execution_count": 38,
   "metadata": {},
   "outputs": [
    {
     "data": {
      "image/png": "[encoded data removed]",
      "text/plain": [
       "<Figure size 720x180 with 1 Axes>"
      ]
     },
     "metadata": {},
     "output_type": "display_data"
    }
   ],
   "source": [
    "df_schedule.plot(figsize=(10,2.5)).set_title('Schedules per day')\n",
    "plt.ylabel('Number of schedules')\n",
    "plt.xlabel('Days');"
   ]
  },
  {
   "cell_type": "code",
   "execution_count": 39,
   "metadata": {},
   "outputs": [
    {
     "data": {
      "image/png": "[encoded data removed]",
      "text/plain": [
       "<Figure size 720x180 with 1 Axes>"
      ]
     },
     "metadata": {},
     "output_type": "display_data"
    }
   ],
   "source": [
    "df_appointment.plot(figsize=(10,2.5)).set_title('Appointments per day')\n",
    "plt.ylabel('Number of appointments')\n",
    "plt.xlabel('Days');"
   ]
  },
  {
   "cell_type": "markdown",
   "metadata": {},
   "source": [
    "As we can see, there was a really accelerated increase on scheduling from May-2016. However, we see a constant number of appointments, maybe due to a max capacity of the medical centers."
   ]
  },
  {
   "cell_type": "markdown",
   "metadata": {},
   "source": [
    "## Correlation analysis"
   ]
  },
  {
   "cell_type": "markdown",
   "metadata": {},
   "source": [
    "Here we'try to figure out if there is any correlation between no-shows and other variables.\n",
    "Below we run a correlation analysis to check it."
   ]
  },
  {
   "cell_type": "code",
   "execution_count": 40,
   "metadata": {},
   "outputs": [
    {
     "data": {
      "text/html": [
       "<div>\n",
       "<style scoped>\n",
       "    .dataframe tbody tr th:only-of-type {\n",
       "        vertical-align: middle;\n",
       "    }\n",
       "\n",
       "    .dataframe tbody tr th {\n",
       "        vertical-align: top;\n",
       "    }\n",
       "\n",
       "    .dataframe thead th {\n",
       "        text-align: right;\n",
       "    }\n",
       "</style>\n",
       "<table border=\"1\" class=\"dataframe\">\n",
       "  <thead>\n",
       "    <tr style=\"text-align: right;\">\n",
       "      <th></th>\n",
       "      <th>patientid</th>\n",
       "      <th>appointmentid</th>\n",
       "      <th>gender</th>\n",
       "      <th>scheduledday</th>\n",
       "      <th>appointmentday</th>\n",
       "      <th>age</th>\n",
       "      <th>neighbourhood</th>\n",
       "      <th>scholarship</th>\n",
       "      <th>hipertension</th>\n",
       "      <th>diabetes</th>\n",
       "      <th>alcoholism</th>\n",
       "      <th>handcap</th>\n",
       "      <th>sms_received</th>\n",
       "      <th>no-show</th>\n",
       "      <th>new_scheduledday</th>\n",
       "      <th>new_appointmentday</th>\n",
       "      <th>diff_schedule_appointment</th>\n",
       "      <th>schedule_period</th>\n",
       "      <th>appointment_hour</th>\n",
       "      <th>schedule_hour</th>\n",
       "    </tr>\n",
       "  </thead>\n",
       "  <tbody>\n",
       "    <tr>\n",
       "      <th>0</th>\n",
       "      <td>29872499824296.0</td>\n",
       "      <td>5642903</td>\n",
       "      <td>F</td>\n",
       "      <td>2016-04-29T18:38:08Z</td>\n",
       "      <td>2016-04-29T00:00:00Z</td>\n",
       "      <td>62</td>\n",
       "      <td>JARDIM DA PENHA</td>\n",
       "      <td>0</td>\n",
       "      <td>1</td>\n",
       "      <td>0</td>\n",
       "      <td>0</td>\n",
       "      <td>0</td>\n",
       "      <td>0</td>\n",
       "      <td>0</td>\n",
       "      <td>2016-04-29</td>\n",
       "      <td>2016-04-29</td>\n",
       "      <td>0 days</td>\n",
       "      <td>&lt; 30 days</td>\n",
       "      <td>0</td>\n",
       "      <td>18</td>\n",
       "    </tr>\n",
       "    <tr>\n",
       "      <th>1</th>\n",
       "      <td>558997776694438.0</td>\n",
       "      <td>5642503</td>\n",
       "      <td>M</td>\n",
       "      <td>2016-04-29T16:08:27Z</td>\n",
       "      <td>2016-04-29T00:00:00Z</td>\n",
       "      <td>56</td>\n",
       "      <td>JARDIM DA PENHA</td>\n",
       "      <td>0</td>\n",
       "      <td>0</td>\n",
       "      <td>0</td>\n",
       "      <td>0</td>\n",
       "      <td>0</td>\n",
       "      <td>0</td>\n",
       "      <td>0</td>\n",
       "      <td>2016-04-29</td>\n",
       "      <td>2016-04-29</td>\n",
       "      <td>0 days</td>\n",
       "      <td>&lt; 30 days</td>\n",
       "      <td>0</td>\n",
       "      <td>16</td>\n",
       "    </tr>\n",
       "    <tr>\n",
       "      <th>2</th>\n",
       "      <td>4262962299951.0</td>\n",
       "      <td>5642549</td>\n",
       "      <td>F</td>\n",
       "      <td>2016-04-29T16:19:04Z</td>\n",
       "      <td>2016-04-29T00:00:00Z</td>\n",
       "      <td>62</td>\n",
       "      <td>MATA DA PRAIA</td>\n",
       "      <td>0</td>\n",
       "      <td>0</td>\n",
       "      <td>0</td>\n",
       "      <td>0</td>\n",
       "      <td>0</td>\n",
       "      <td>0</td>\n",
       "      <td>0</td>\n",
       "      <td>2016-04-29</td>\n",
       "      <td>2016-04-29</td>\n",
       "      <td>0 days</td>\n",
       "      <td>&lt; 30 days</td>\n",
       "      <td>0</td>\n",
       "      <td>16</td>\n",
       "    </tr>\n",
       "    <tr>\n",
       "      <th>3</th>\n",
       "      <td>867951213174.0</td>\n",
       "      <td>5642828</td>\n",
       "      <td>F</td>\n",
       "      <td>2016-04-29T17:29:31Z</td>\n",
       "      <td>2016-04-29T00:00:00Z</td>\n",
       "      <td>8</td>\n",
       "      <td>PONTAL DE CAMBURI</td>\n",
       "      <td>0</td>\n",
       "      <td>0</td>\n",
       "      <td>0</td>\n",
       "      <td>0</td>\n",
       "      <td>0</td>\n",
       "      <td>0</td>\n",
       "      <td>0</td>\n",
       "      <td>2016-04-29</td>\n",
       "      <td>2016-04-29</td>\n",
       "      <td>0 days</td>\n",
       "      <td>&lt; 30 days</td>\n",
       "      <td>0</td>\n",
       "      <td>17</td>\n",
       "    </tr>\n",
       "    <tr>\n",
       "      <th>4</th>\n",
       "      <td>8841186448183.0</td>\n",
       "      <td>5642494</td>\n",
       "      <td>F</td>\n",
       "      <td>2016-04-29T16:07:23Z</td>\n",
       "      <td>2016-04-29T00:00:00Z</td>\n",
       "      <td>56</td>\n",
       "      <td>JARDIM DA PENHA</td>\n",
       "      <td>0</td>\n",
       "      <td>1</td>\n",
       "      <td>1</td>\n",
       "      <td>0</td>\n",
       "      <td>0</td>\n",
       "      <td>0</td>\n",
       "      <td>0</td>\n",
       "      <td>2016-04-29</td>\n",
       "      <td>2016-04-29</td>\n",
       "      <td>0 days</td>\n",
       "      <td>&lt; 30 days</td>\n",
       "      <td>0</td>\n",
       "      <td>16</td>\n",
       "    </tr>\n",
       "  </tbody>\n",
       "</table>\n",
       "</div>"
      ],
      "text/plain": [
       "           patientid  appointmentid gender          scheduledday  \\\n",
       "0   29872499824296.0        5642903      F  2016-04-29T18:38:08Z   \n",
       "1  558997776694438.0        5642503      M  2016-04-29T16:08:27Z   \n",
       "2    4262962299951.0        5642549      F  2016-04-29T16:19:04Z   \n",
       "3     867951213174.0        5642828      F  2016-04-29T17:29:31Z   \n",
       "4    8841186448183.0        5642494      F  2016-04-29T16:07:23Z   \n",
       "\n",
       "         appointmentday  age      neighbourhood  scholarship  hipertension  \\\n",
       "0  2016-04-29T00:00:00Z   62    JARDIM DA PENHA            0             1   \n",
       "1  2016-04-29T00:00:00Z   56    JARDIM DA PENHA            0             0   \n",
       "2  2016-04-29T00:00:00Z   62      MATA DA PRAIA            0             0   \n",
       "3  2016-04-29T00:00:00Z    8  PONTAL DE CAMBURI            0             0   \n",
       "4  2016-04-29T00:00:00Z   56    JARDIM DA PENHA            0             1   \n",
       "\n",
       "   diabetes  alcoholism  handcap  sms_received  no-show new_scheduledday  \\\n",
       "0         0           0        0             0        0       2016-04-29   \n",
       "1         0           0        0             0        0       2016-04-29   \n",
       "2         0           0        0             0        0       2016-04-29   \n",
       "3         0           0        0             0        0       2016-04-29   \n",
       "4         1           0        0             0        0       2016-04-29   \n",
       "\n",
       "  new_appointmentday diff_schedule_appointment schedule_period  \\\n",
       "0         2016-04-29                    0 days       < 30 days   \n",
       "1         2016-04-29                    0 days       < 30 days   \n",
       "2         2016-04-29                    0 days       < 30 days   \n",
       "3         2016-04-29                    0 days       < 30 days   \n",
       "4         2016-04-29                    0 days       < 30 days   \n",
       "\n",
       "   appointment_hour  schedule_hour  \n",
       "0                 0             18  \n",
       "1                 0             16  \n",
       "2                 0             16  \n",
       "3                 0             17  \n",
       "4                 0             16  "
      ]
     },
     "execution_count": 40,
     "metadata": {},
     "output_type": "execute_result"
    }
   ],
   "source": [
    "df.head()"
   ]
  },
  {
   "cell_type": "code",
   "execution_count": 41,
   "metadata": {},
   "outputs": [
    {
     "data": {
      "image/png": "[encoded data removed]",
      "text/plain": [
       "<Figure size 648x360 with 2 Axes>"
      ]
     },
     "metadata": {},
     "output_type": "display_data"
    }
   ],
   "source": [
    "corr = df[['age',\n",
    "           'scholarship',\n",
    "           'hipertension',\n",
    "           'diabetes',\n",
    "           'alcoholism',\n",
    "           'handcap',\n",
    "           'sms_received',\n",
    "           'no-show','schedule_hour']].corr()\n",
    "\n",
    "plt.figure(figsize = (9,5))\n",
    "sns.set(font_scale=0.7)\n",
    "ax = sns.heatmap(corr, annot=True,\n",
    "            xticklabels=corr.columns.values,\n",
    "            yticklabels=corr.columns.values)\n",
    "ax.set_title('Correlation analysis');"
   ]
  },
  {
   "cell_type": "markdown",
   "metadata": {},
   "source": [
    "As we can see, there is little correlation between variables including no-show.\n",
    "The higher correlation coeficients are hipertension x age and hipertension x diabetes, which is moderated. A low correlation between diabetes and age can also be visualized."
   ]
  },
  {
   "cell_type": "markdown",
   "metadata": {},
   "source": [
    "## Conclusions"
   ]
  },
  {
   "cell_type": "markdown",
   "metadata": {},
   "source": [
    "As we can see, this brief analsysis showed some interesting data although we cannot create any relevant insight. We also found some limitations on the data like:\n",
    "\n",
    "### Limitations\n",
    "\n",
    "1. Many records had the same scheduling and appointment date. Although we can't say that it is a problem, the dataset documentation don't explain it.\n",
    "2. The appointment column did not data about the hour. We weren't able to explore which hours no-shows occurs the most.\n",
    "3. Age column had some records with negative values. We droped it.\n",
    "\n",
    "Thinking about how reality is reflected, this dataset lacks some important data such as the hospital name, state, scheduling type (telephone, website, in person) for example. A deeper analysis would benefit from it.\n",
    "\n",
    "### Answers\n",
    "\n",
    "To conclude, follow below the answers we collected:\n",
    "\n",
    "1. Demography of the sample (age, sex, medical issue)\n",
    "> The average age for male pacients is 33 years/old while for female patients it is 38 years. The scholarship for both groups (0.5 for male and 0.12 for female - representing more than the double than men patients).\n",
    "> The median between scheduling and appointment date is 15 days, desconsidering rows where both columns have the same date.\n",
    "\n",
    "2. Which hospital has more no-shows?\n",
    "> The hospital that have more no-shows, in absolute numbers, is the hospital from Jardim Camburi. But comparing the percentages, we see that the medical center located in Itararé leads with 25% of no-shows (5% p.p from the median).\n",
    "\n",
    "3. How many times a patient schedule an appointment\n",
    "> Based on this data we see that, between Nov-2015 and May-2016, a 56% of the patients have scheduled an appoint at least 2 times. Men leads with 57.52% and Females 55.74%.\n",
    "\n",
    "4. What medical issue drives more no-shows?\n",
    "> The medical issue that leads more no-shows is hipertension (3772), followed by diabetes (1430), alcoholism (677) and handcap (453).\n",
    "> The hospitals that has received more cases of hipertension and diabetes is the one located in Jardim da Penha while Santa Martha receives more patients from alcoholism and handcap.\n",
    "\n",
    "5. There is a correlation between scholarship and no-show?\n",
    "> Based on a simple correlation analysis, we didn't any strong relationship between theses variables and others too. Perhaps a machine learning model can tell us which feature has more impact on no-shows.\n",
    "\n",
    "6. There is a correlation between received SMS and show-up?\n",
    "> We also didn't see any correlation on this case. But on a the histogram on \"Patient demography\" we see that only one third of the patients received that SMS. This leads us to two questions that we cannot answer with this dataset: 1. How good is the patient database? 2. How eficient are those systems responsible for that?"
   ]
  },
  {
   "cell_type": "code",
   "execution_count": null,
   "metadata": {},
   "outputs": [],
   "source": []
  },
  {
   "cell_type": "code",
   "execution_count": null,
   "metadata": {},
   "outputs": [],
   "source": []
  },
  {
   "cell_type": "code",
   "execution_count": null,
   "metadata": {},
   "outputs": [],
   "source": []
  }
 ],
 "metadata": {
  "kernelspec": {
   "display_name": "Python 3",
   "language": "python",
   "name": "python3"
  },
  "language_info": {
   "codemirror_mode": {
    "name": "ipython",
    "version": 3
   },
   "file_extension": ".py",
   "mimetype": "text/x-python",
   "name": "python",
   "nbconvert_exporter": "python",
   "pygments_lexer": "ipython3",
   "version": "3.6.5"
  }
 },
 "nbformat": 4,
 "nbformat_minor": 2
}
